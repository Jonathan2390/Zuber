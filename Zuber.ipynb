{
 "cells": [
  {
   "cell_type": "markdown",
   "metadata": {},
   "source": [
    "Como continuación de las actividades realizadas en los pasos 1, 2 y 3 del proyecto, mismas que se encuentran relacionadas con la preparación  y filtrado de datos a través de sentencias de SQL, y de las cuales se obtuvieron los archivos de datos que se asignarán a dataframe, con la finalidad de poder analizar, y presentar las pruebas de hipótesis necesarias, para demostrar \"La duración promedio de los viajes desde el Loop hasta el Aeropuerto Internacional O'Hare cambia los sábados lluviosos\"."
   ]
  },
  {
   "cell_type": "markdown",
   "metadata": {},
   "source": [
    "Importando las librerías necesarias para trabajar con los datos correspondientes al servicio de taxis y destinos."
   ]
  },
  {
   "cell_type": "code",
   "execution_count": 27,
   "metadata": {
    "trusted": true
   },
   "outputs": [],
   "source": [
    "from scipy import stats as st\n",
    "from scipy.stats import levene\n",
    "import math as mt\n",
    "import numpy as np\n",
    "import pandas as pd\n",
    "import matplotlib.pyplot as plt\n",
    "import seaborn as sns"
   ]
  },
  {
   "cell_type": "markdown",
   "metadata": {},
   "source": [
    "## Carga de los datos de estudio"
   ]
  },
  {
   "cell_type": "markdown",
   "metadata": {},
   "source": [
    "Es este paso se realiza la carga de los datos a los respectivos dataframe, company_trips y dropoff, que servirán para realizar el estudio de los destinos y empresas de taxis."
   ]
  },
  {
   "cell_type": "code",
   "execution_count": 28,
   "metadata": {
    "trusted": true
   },
   "outputs": [],
   "source": [
    "\n",
    "company_trips = pd.read_csv('/datasets/project_sql_result_01.csv' , sep = ',')\n",
    "\n",
    "dropoff = pd.read_csv('/datasets/project_sql_result_04.csv' , sep = ',')\n",
    "\n",
    "loop_trips = pd.read_csv('/datasets/project_sql_result_07.csv' , sep = ',')"
   ]
  },
  {
   "cell_type": "markdown",
   "metadata": {},
   "source": [
    "Se ejecuta el comando info para ambos dataframe para observar como se encuentran conformados:"
   ]
  },
  {
   "cell_type": "code",
   "execution_count": 29,
   "metadata": {
    "trusted": true
   },
   "outputs": [
    {
     "name": "stdout",
     "output_type": "stream",
     "text": [
      "Info del dataframe company_trips\n",
      "\n",
      "<class 'pandas.core.frame.DataFrame'>\n",
      "RangeIndex: 64 entries, 0 to 63\n",
      "Data columns (total 2 columns):\n",
      " #   Column        Non-Null Count  Dtype \n",
      "---  ------        --------------  ----- \n",
      " 0   company_name  64 non-null     object\n",
      " 1   trips_amount  64 non-null     int64 \n",
      "dtypes: int64(1), object(1)\n",
      "memory usage: 1.1+ KB\n",
      "\n",
      "Info del dataframe dropoff\n",
      "\n",
      "<class 'pandas.core.frame.DataFrame'>\n",
      "RangeIndex: 94 entries, 0 to 93\n",
      "Data columns (total 2 columns):\n",
      " #   Column                 Non-Null Count  Dtype  \n",
      "---  ------                 --------------  -----  \n",
      " 0   dropoff_location_name  94 non-null     object \n",
      " 1   average_trips          94 non-null     float64\n",
      "dtypes: float64(1), object(1)\n",
      "memory usage: 1.6+ KB\n",
      "\n",
      "Info del dataframe loop_trips\n",
      "\n",
      "<class 'pandas.core.frame.DataFrame'>\n",
      "RangeIndex: 1068 entries, 0 to 1067\n",
      "Data columns (total 3 columns):\n",
      " #   Column              Non-Null Count  Dtype  \n",
      "---  ------              --------------  -----  \n",
      " 0   start_ts            1068 non-null   object \n",
      " 1   weather_conditions  1068 non-null   object \n",
      " 2   duration_seconds    1068 non-null   float64\n",
      "dtypes: float64(1), object(2)\n",
      "memory usage: 25.2+ KB\n"
     ]
    }
   ],
   "source": [
    "print(\"Info del dataframe company_trips\")\n",
    "print()\n",
    "company_trips.info()\n",
    "print()\n",
    "print(\"Info del dataframe dropoff\")\n",
    "print()\n",
    "dropoff.info()\n",
    "print()\n",
    "print(\"Info del dataframe loop_trips\")\n",
    "print()\n",
    "loop_trips.info()"
   ]
  },
  {
   "cell_type": "markdown",
   "metadata": {},
   "source": [
    "Se imprime una pequeña muestra de los dataframe, a fin de consultar la información contenida:"
   ]
  },
  {
   "cell_type": "code",
   "execution_count": 30,
   "metadata": {
    "trusted": true
   },
   "outputs": [
    {
     "name": "stdout",
     "output_type": "stream",
     "text": [
      "Muestra de datos del dataframe company_trips\n",
      "\n",
      "                      company_name  trips_amount\n",
      "0                        Flash Cab         19558\n",
      "1        Taxi Affiliation Services         11422\n",
      "2                Medallion Leasing         10367\n",
      "3                       Yellow Cab          9888\n",
      "4  Taxi Affiliation Service Yellow          9299\n",
      "\n",
      "Muestra de datos del dataframe dropoff\n",
      "\n",
      "  dropoff_location_name  average_trips\n",
      "0                  Loop   10727.466667\n",
      "1           River North    9523.666667\n",
      "2         Streeterville    6664.666667\n",
      "3             West Loop    5163.666667\n",
      "4                O'Hare    2546.900000\n",
      "\n",
      "Muestra de datos del dataframe loop_trips\n",
      "\n",
      "              start_ts weather_conditions  duration_seconds\n",
      "0  2017-11-25 16:00:00               Good            2410.0\n",
      "1  2017-11-25 14:00:00               Good            1920.0\n",
      "2  2017-11-25 12:00:00               Good            1543.0\n",
      "3  2017-11-04 10:00:00               Good            2512.0\n",
      "4  2017-11-11 07:00:00               Good            1440.0\n"
     ]
    }
   ],
   "source": [
    "print(\"Muestra de datos del dataframe company_trips\")\n",
    "print()\n",
    "print(company_trips.head())\n",
    "print()\n",
    "print(\"Muestra de datos del dataframe dropoff\")\n",
    "print()\n",
    "print(dropoff.head())\n",
    "print()\n",
    "print(\"Muestra de datos del dataframe loop_trips\")\n",
    "print()\n",
    "print(loop_trips.head())"
   ]
  },
  {
   "cell_type": "markdown",
   "metadata": {},
   "source": [
    "Observando la muestra de los dataframe company_trips y dropoff, podemos concluir que los tipos de datos que los conforman son correctos, toda vez que se muestra company_name como tipo objeto y trips_amount como entero; y por otro lado dropoff_location como tipo objeto y average_trips como flotante. En lo correspondiente al dataframe loop_trips, se realizó la modificación del tipo de dato del campo start_ts a timestamp, a fin de poder realizar cálculos con las fechas y horas. Adicionalmente  se modificó el campo duration_seconds de flotante a entero, ya que la unidad de medida utilizada son los segundos."
   ]
  },
  {
   "cell_type": "markdown",
   "metadata": {},
   "source": [
    "### Revisando si existen valores duplicados"
   ]
  },
  {
   "cell_type": "code",
   "execution_count": 31,
   "metadata": {
    "trusted": true
   },
   "outputs": [
    {
     "name": "stdout",
     "output_type": "stream",
     "text": [
      "\n",
      "Número de registros duplicados en company_trips 0\n",
      "\n",
      "\n",
      "Número de registros duplicados en company_trips 0\n",
      "\n",
      "\n",
      "Número de registros duplicados en company_trips 197\n",
      "\n"
     ]
    }
   ],
   "source": [
    "duplicated_company_trips = company_trips.duplicated().sum()\n",
    "print()\n",
    "print(\"Número de registros duplicados en company_trips\", duplicated_company_trips)\n",
    "print()\n",
    "duplicated_dropoff = dropoff.duplicated().sum()\n",
    "print()\n",
    "print(\"Número de registros duplicados en company_trips\", duplicated_dropoff)\n",
    "print()\n",
    "duplicated_loop_trips = loop_trips.duplicated().sum()\n",
    "print()\n",
    "print(\"Número de registros duplicados en company_trips\", duplicated_loop_trips)\n",
    "print()"
   ]
  },
  {
   "cell_type": "markdown",
   "metadata": {},
   "source": [
    "Derivado del análisis anterior, en el que se identifica que existen 197 registros duplicados en el datagrame company_trips, es necesario realizar la eliminación de dichos registros, toda vez que cuentan con exactamente la misma duración."
   ]
  },
  {
   "cell_type": "markdown",
   "metadata": {},
   "source": [
    "### Eliminando duplicados"
   ]
  },
  {
   "cell_type": "code",
   "execution_count": 32,
   "metadata": {
    "trusted": true
   },
   "outputs": [
    {
     "name": "stdout",
     "output_type": "stream",
     "text": [
      "\n",
      "Duplicados en loop_trips: 0\n"
     ]
    }
   ],
   "source": [
    "loop_trips = loop_trips.drop_duplicates()\n",
    "print()\n",
    "#Imprimimos de nuevo para validar si existen duplicados aún.\n",
    "print(\"Duplicados en loop_trips:\" , loop_trips.duplicated().sum())"
   ]
  },
  {
   "cell_type": "markdown",
   "metadata": {},
   "source": [
    "## Corrigiendo tipos de datos"
   ]
  },
  {
   "cell_type": "code",
   "execution_count": 33,
   "metadata": {
    "trusted": true
   },
   "outputs": [
    {
     "name": "stdout",
     "output_type": "stream",
     "text": [
      "<class 'pandas.core.frame.DataFrame'>\n",
      "Int64Index: 871 entries, 0 to 1067\n",
      "Data columns (total 3 columns):\n",
      " #   Column              Non-Null Count  Dtype         \n",
      "---  ------              --------------  -----         \n",
      " 0   start_ts            871 non-null    datetime64[ns]\n",
      " 1   weather_conditions  871 non-null    object        \n",
      " 2   duration_seconds    871 non-null    int64         \n",
      "dtypes: datetime64[ns](1), int64(1), object(1)\n",
      "memory usage: 27.2+ KB\n",
      "\n"
     ]
    }
   ],
   "source": [
    "loop_trips['duration_seconds'] = loop_trips['duration_seconds'].astype(int)\n",
    "loop_trips['start_ts'] = pd.to_datetime(loop_trips['start_ts'])\n",
    "loop_trips.info()\n",
    "print()\n"
   ]
  },
  {
   "cell_type": "markdown",
   "metadata": {},
   "source": [
    "Se imprime de nuevo una muestra de dataframe loop_trips para observar que se muestra correctamente, despues de los cambios realizados\n"
   ]
  },
  {
   "cell_type": "code",
   "execution_count": 34,
   "metadata": {
    "trusted": true
   },
   "outputs": [
    {
     "name": "stdout",
     "output_type": "stream",
     "text": [
      "             start_ts weather_conditions  duration_seconds\n",
      "0 2017-11-25 16:00:00               Good              2410\n",
      "1 2017-11-25 14:00:00               Good              1920\n",
      "2 2017-11-25 12:00:00               Good              1543\n",
      "3 2017-11-04 10:00:00               Good              2512\n",
      "4 2017-11-11 07:00:00               Good              1440\n"
     ]
    }
   ],
   "source": [
    "\n",
    "print(loop_trips.head())"
   ]
  },
  {
   "cell_type": "markdown",
   "metadata": {},
   "source": [
    "## Identificar los 10 principales barrios en términos de finalización del recorrido"
   ]
  },
  {
   "cell_type": "code",
   "execution_count": 35,
   "metadata": {
    "trusted": true
   },
   "outputs": [
    {
     "name": "stdout",
     "output_type": "stream",
     "text": [
      "<bound method NDFrame.head of   dropoff_location_name  average_trips\n",
      "0                  Loop   10727.466667\n",
      "1           River North    9523.666667\n",
      "2         Streeterville    6664.666667\n",
      "3             West Loop    5163.666667\n",
      "4                O'Hare    2546.900000\n",
      "5             Lake View    2420.966667\n",
      "6            Grant Park    2068.533333\n",
      "7         Museum Campus    1510.000000\n",
      "8            Gold Coast    1364.233333\n",
      "9    Sheffield & DePaul    1259.766667>\n"
     ]
    },
    {
     "data": {
      "image/png": "[encoded data removed]",
      "text/plain": [
       "<Figure size 1000x600 with 1 Axes>"
      ]
     },
     "metadata": {},
     "output_type": "display_data"
    }
   ],
   "source": [
    "dropoff_sorted = dropoff.sort_values(by='average_trips', ascending=False)\n",
    "\n",
    "top_10_dropoff = dropoff_sorted.head(10)\n",
    "\n",
    "print(top_10_dropoff.head)\n",
    "# Graficar los resultados\n",
    "plt.figure(figsize=(10, 6))\n",
    "plt.bar(top_10_dropoff['dropoff_location_name'], top_10_dropoff['average_trips'], color='skyblue')\n",
    "plt.title('Top 10 Barrios por Promedio de Viajes Finalizados')\n",
    "plt.xlabel('Barrios')\n",
    "plt.ylabel('Promedio de Viajes')\n",
    "plt.xticks(rotation=45)\n",
    "plt.grid(axis='y')\n",
    "\n",
    "# Mostrar la gráfica\n",
    "plt.tight_layout()\n",
    "plt.show()"
   ]
  },
  {
   "cell_type": "markdown",
   "metadata": {},
   "source": [
    "### Concluciones"
   ]
  },
  {
   "cell_type": "markdown",
   "metadata": {},
   "source": [
    "Derivado de la observación de la gráfica anterior, se observa que los tres principales barrios en los que concluyen los viajes en taxi son:\n",
    "\n",
    "* Loop - 10,727.46\n",
    "* River North - 9,523.66\n",
    "* Streeterville - 6,664.66"
   ]
  },
  {
   "cell_type": "markdown",
   "metadata": {},
   "source": [
    "## Identificando las principales empresas de taxis con mayores viajes realizados"
   ]
  },
  {
   "cell_type": "code",
   "execution_count": 36,
   "metadata": {
    "trusted": true
   },
   "outputs": [
    {
     "name": "stdout",
     "output_type": "stream",
     "text": [
      "                      company_name  trips_amount\n",
      "0                        Flash Cab         19558\n",
      "1        Taxi Affiliation Services         11422\n",
      "2                Medallion Leasing         10367\n",
      "3                       Yellow Cab          9888\n",
      "4  Taxi Affiliation Service Yellow          9299\n"
     ]
    },
    {
     "data": {
      "image/png": "[encoded data removed]",
      "text/plain": [
       "<Figure size 1000x600 with 1 Axes>"
      ]
     },
     "metadata": {},
     "output_type": "display_data"
    }
   ],
   "source": [
    "company_trips_sorted = company_trips.sort_values(by='trips_amount', ascending=False)\n",
    "\n",
    "top_10_company_trips = company_trips_sorted.head(10)\n",
    "print(top_10_company_trips.head())\n",
    "# Graficar los resultados\n",
    "plt.figure(figsize=(10, 6))\n",
    "plt.bar(top_10_company_trips['company_name'], top_10_company_trips['trips_amount'], color='skyblue')\n",
    "plt.title('Top 10 empresas de taxis con mayores viajes realizados')\n",
    "plt.xlabel('Empresas de taxis')\n",
    "plt.ylabel('Viajes realizados')\n",
    "plt.xticks(rotation=90)\n",
    "plt.grid(axis='y')\n",
    "\n",
    "# Mostrar la gráfica\n",
    "plt.tight_layout()\n",
    "plt.show()"
   ]
  },
  {
   "cell_type": "markdown",
   "metadata": {},
   "source": [
    "### Conclusiones"
   ]
  },
  {
   "cell_type": "markdown",
   "metadata": {},
   "source": [
    "Observando la gráfica, se concluye que las empresas que registran mayor número de viajes en taxi son las siguientes:\n",
    "\n",
    "* Flash Cab - 19,558\n",
    "* Taxi Affiliation Services - 11,422\n",
    "* Medallion Leasing - 10,367\n",
    "\n",
    "En gran dominador del mercado se puede considerar Flash Cab, toda vez que existe una ventaja respecto a su más cercano competidor Taxi Affiliation Services, de 8,136 viajes en taxi en los días tomados para este estudio, 15 y 16 de noviembre de 2017."
   ]
  },
  {
   "cell_type": "markdown",
   "metadata": {},
   "source": [
    "## Paso 5. Prueba de hipótesis (Python)"
   ]
  },
  {
   "cell_type": "markdown",
   "metadata": {},
   "source": [
    "Una vez preparados y que tenemos mayor conocimiento de la información observada en las gráficas del numeral anterior, llegamos a la parte más destacada de este análisis, tenemos la tarea de probar la hipótesis \"La duración promedio de los viajes desde el Loop hasta el Aeropuerto Internacional O'Hare cambia los sábados lluviosos\".\n",
    "\n",
    "A continuación observaremos el dataframe que de Contiene datos sobre viajes desde el Loop hasta el Aeropuerto Internacional O'Hare. Recuerda, que cuenta con los siguientes datos:\n",
    "\n",
    "* start_ts: fecha y hora de la recogida\n",
    "* weather_conditions: condiciones climáticas en el momento en el que comenzó el viaje\n",
    "* duration_seconds: duración del viaje en segundos"
   ]
  },
  {
   "cell_type": "code",
   "execution_count": 37,
   "metadata": {
    "trusted": true
   },
   "outputs": [
    {
     "name": "stdout",
     "output_type": "stream",
     "text": [
      "Prueba de Levene: 0.000586951625283602\n",
      "Valor p: 0.9806770360671218\n",
      "No rechazamos la hipótesis nula: las varianzas son iguales.\n",
      "\n",
      "Estadístico t: 5.427957689754561\n",
      "Valor p: 7.397770692813658e-08\n",
      "No rechazamos la hipótesis nula: no hay una diferencia significativa en la duración promedio de los viajes cuando las condiciones del tiempo son malas.\n"
     ]
    }
   ],
   "source": [
    "\n",
    "# Filtrar los datos\n",
    "bad_conditions = loop_trips[loop_trips['weather_conditions'] == 'Bad']['duration_seconds']\n",
    "good_conditions = loop_trips[loop_trips['weather_conditions'] == 'Good']['duration_seconds']\n",
    "\n",
    "# Calculando las medias\n",
    "mean_bad_conditions = bad_conditions.mean()\n",
    "mean_good_conditions = good_conditions.mean()\n",
    "\n",
    "#Prueba Levene\n",
    "\n",
    "statistic, p_value = levene(bad_conditions, good_conditions)\n",
    "\n",
    "# Mostrar los resultados\n",
    "print(f'Prueba de Levene: {statistic}')\n",
    "print(f'Valor p: {p_value}')\n",
    "\n",
    "# Interpretar los resultados\n",
    "alpha = 0.05\n",
    "if p_value > alpha:\n",
    "    print(\"No rechazamos la hipótesis nula: las varianzas son iguales.\")\n",
    "else:\n",
    "    print(\"Rechazamos la hipótesis nula: las varianzas no son iguales.\")\n",
    "# Realizar el t-test\n",
    "t_stat, p_value = st.ttest_ind(bad_conditions, good_conditions, equal_var=True)\n",
    "print()\n",
    "# Resultados\n",
    "print(f'Estadístico t: {t_stat}')\n",
    "print(f'Valor p: {p_value}')\n",
    "# Interpretación\n",
    "alpha = 0.05  # Nivel de significancia\n",
    "if p_value > alpha:\n",
    "    print(\"Rechazamos la hipótesis nula: hay una diferencia significativa en la duración promedio de los viajes cuando las condiciones del tiempo son malas.\")\n",
    "else:\n",
    "    print(\"No rechazamos la hipótesis nula: no hay una diferencia significativa en la duración promedio de los viajes cuando las condiciones del tiempo son malas.\")\n",
    "\n",
    "   \n",
    "    "
   ]
  },
  {
   "cell_type": "markdown",
   "metadata": {},
   "source": [
    "## Conclusión"
   ]
  },
  {
   "cell_type": "markdown",
   "metadata": {},
   "source": [
    "Cómo planteaste las hipótesis nula y alternativa\n",
    "\n",
    "Hipótesis nula\n",
    "No hay diferencia en la duración promedio de los viajes entre las condiciones climáticas \"Bad\" y \"Good\".\n",
    "\n",
    "Hipótesis Alternativa\n",
    "La duración promedio de los viajes es mayor cuando las condiciones climáticas son \"Bad\" en comparación con cuando son \"Good\".\n",
    "\n",
    "Criterio utilizado:\n",
    "\n",
    "La variable dependiente (duration_seconds) es continua y se asume que sigue una distribución normal en cada grupo (Bad y Good).\n",
    "La variable independiente (weather_conditions) es categórica y tiene dos niveles (Bad y Good).\n",
    "\n",
    "El principal objetivo de esta prueba es comparar las medias de dos grupos cuando las condiciones climáticas son buenas y malas (Bad vs. Good) para determinar si hay una diferencia significativa en la duración promedio de los viajes.\n",
    "\n",
    "Para concluir, se observa que existe una variación promedio de 7 minutos en la duración de los viajes en taxi, los días sábados cuando las condiciones del clima son malas; por lo que es correcta \"La duración promedio de los viajes desde el Loop hasta el Aeropuerto Internacional O'Hare cambia los sábados lluviosos\", cambia aumentando la duración de los viajes."
   ]
  }
 ],
 "metadata": {
  "ExecuteTimeLog": [
   {
    "duration": 2601,
    "start_time": "2024-12-23T23:55:03.373Z"
   },
   {
    "duration": 16,
    "start_time": "2024-12-23T23:59:33.442Z"
   },
   {
    "duration": 8,
    "start_time": "2024-12-24T00:01:44.931Z"
   },
   {
    "duration": 8,
    "start_time": "2024-12-24T00:02:15.138Z"
   },
   {
    "duration": 9,
    "start_time": "2024-12-24T00:02:42.649Z"
   },
   {
    "duration": 12,
    "start_time": "2024-12-24T00:02:59.985Z"
   },
   {
    "duration": 5,
    "start_time": "2024-12-24T00:04:26.875Z"
   },
   {
    "duration": 5,
    "start_time": "2024-12-24T00:04:58.074Z"
   },
   {
    "duration": 5,
    "start_time": "2024-12-24T00:05:11.422Z"
   },
   {
    "duration": 5,
    "start_time": "2024-12-24T00:06:57.671Z"
   },
   {
    "duration": 6,
    "start_time": "2024-12-24T00:07:57.961Z"
   },
   {
    "duration": 3,
    "start_time": "2024-12-24T01:41:07.308Z"
   },
   {
    "duration": 213,
    "start_time": "2024-12-24T01:41:19.834Z"
   },
   {
    "duration": 3,
    "start_time": "2024-12-24T01:41:26.184Z"
   },
   {
    "duration": 4,
    "start_time": "2024-12-24T01:42:07.228Z"
   },
   {
    "duration": 15,
    "start_time": "2024-12-24T01:43:05.479Z"
   },
   {
    "duration": 5,
    "start_time": "2024-12-24T01:43:14.384Z"
   },
   {
    "duration": 4,
    "start_time": "2024-12-24T01:49:07.488Z"
   },
   {
    "duration": 21,
    "start_time": "2024-12-24T01:50:05.484Z"
   },
   {
    "duration": 288,
    "start_time": "2024-12-24T01:50:21.376Z"
   },
   {
    "duration": 257,
    "start_time": "2024-12-24T01:52:29.739Z"
   },
   {
    "duration": 258,
    "start_time": "2024-12-24T01:55:36.696Z"
   },
   {
    "duration": 452,
    "start_time": "2024-12-24T01:59:42.612Z"
   },
   {
    "duration": 279,
    "start_time": "2024-12-24T02:01:11.041Z"
   },
   {
    "duration": 102,
    "start_time": "2024-12-24T02:07:29.781Z"
   },
   {
    "duration": 6,
    "start_time": "2024-12-24T02:07:36.682Z"
   },
   {
    "duration": 274,
    "start_time": "2024-12-24T02:07:47.821Z"
   },
   {
    "duration": 249,
    "start_time": "2024-12-24T02:12:31.364Z"
   },
   {
    "duration": 261,
    "start_time": "2024-12-24T02:20:08.342Z"
   },
   {
    "duration": 250,
    "start_time": "2024-12-24T02:21:24.751Z"
   },
   {
    "duration": 259,
    "start_time": "2024-12-24T02:21:34.441Z"
   },
   {
    "duration": 14,
    "start_time": "2024-12-24T02:33:32.875Z"
   },
   {
    "duration": 6,
    "start_time": "2024-12-24T02:33:40.274Z"
   },
   {
    "duration": 17,
    "start_time": "2024-12-24T02:40:59.284Z"
   },
   {
    "duration": 19,
    "start_time": "2024-12-24T02:41:34.389Z"
   },
   {
    "duration": 8,
    "start_time": "2024-12-24T02:44:56.340Z"
   },
   {
    "duration": 7,
    "start_time": "2024-12-24T02:45:51.652Z"
   },
   {
    "duration": 3,
    "start_time": "2024-12-24T02:47:44.640Z"
   },
   {
    "duration": 9,
    "start_time": "2024-12-24T02:48:41.127Z"
   },
   {
    "duration": 15,
    "start_time": "2024-12-24T02:49:36.908Z"
   },
   {
    "duration": 4,
    "start_time": "2024-12-24T02:49:44.945Z"
   },
   {
    "duration": 21,
    "start_time": "2024-12-24T02:49:48.914Z"
   },
   {
    "duration": 11,
    "start_time": "2024-12-24T02:50:37.171Z"
   },
   {
    "duration": 15,
    "start_time": "2024-12-24T02:50:52.423Z"
   },
   {
    "duration": 12,
    "start_time": "2024-12-24T02:53:43.104Z"
   },
   {
    "duration": 12,
    "start_time": "2024-12-24T02:53:51.070Z"
   },
   {
    "duration": 11,
    "start_time": "2024-12-24T02:54:22.740Z"
   },
   {
    "duration": 13,
    "start_time": "2024-12-24T02:54:38.929Z"
   },
   {
    "duration": 11,
    "start_time": "2024-12-24T02:54:54.123Z"
   },
   {
    "duration": 5,
    "start_time": "2024-12-24T02:55:21.547Z"
   },
   {
    "duration": 6,
    "start_time": "2024-12-24T02:55:25.564Z"
   },
   {
    "duration": 17,
    "start_time": "2024-12-24T03:08:20.529Z"
   },
   {
    "duration": 3,
    "start_time": "2024-12-24T03:08:55.347Z"
   },
   {
    "duration": 5,
    "start_time": "2024-12-24T03:09:08.574Z"
   },
   {
    "duration": 7,
    "start_time": "2024-12-24T03:09:46.668Z"
   },
   {
    "duration": 6,
    "start_time": "2024-12-24T03:10:42.789Z"
   },
   {
    "duration": 8,
    "start_time": "2024-12-24T03:19:03.446Z"
   },
   {
    "duration": 7,
    "start_time": "2024-12-24T03:20:10.785Z"
   },
   {
    "duration": 7,
    "start_time": "2024-12-24T03:20:51.467Z"
   },
   {
    "duration": 7,
    "start_time": "2024-12-24T03:23:53.153Z"
   },
   {
    "duration": 6,
    "start_time": "2024-12-24T03:26:59.132Z"
   },
   {
    "duration": 7,
    "start_time": "2024-12-24T03:28:15.882Z"
   },
   {
    "duration": 7,
    "start_time": "2024-12-24T03:31:43.268Z"
   },
   {
    "duration": 3,
    "start_time": "2024-12-24T03:39:23.217Z"
   },
   {
    "duration": 14,
    "start_time": "2024-12-24T03:39:23.728Z"
   },
   {
    "duration": 19,
    "start_time": "2024-12-24T03:39:24.030Z"
   },
   {
    "duration": 7,
    "start_time": "2024-12-24T03:39:24.359Z"
   },
   {
    "duration": 10,
    "start_time": "2024-12-24T03:39:24.873Z"
   },
   {
    "duration": 5,
    "start_time": "2024-12-24T03:39:25.230Z"
   },
   {
    "duration": 257,
    "start_time": "2024-12-24T03:39:25.945Z"
   },
   {
    "duration": 284,
    "start_time": "2024-12-24T03:39:26.614Z"
   },
   {
    "duration": 7,
    "start_time": "2024-12-24T03:39:29.145Z"
   },
   {
    "duration": 3,
    "start_time": "2024-12-24T03:42:02.540Z"
   },
   {
    "duration": 11,
    "start_time": "2024-12-24T03:42:03.005Z"
   },
   {
    "duration": 19,
    "start_time": "2024-12-24T03:42:03.876Z"
   },
   {
    "duration": 8,
    "start_time": "2024-12-24T03:42:05.071Z"
   },
   {
    "duration": 11,
    "start_time": "2024-12-24T03:42:09.550Z"
   },
   {
    "duration": 5,
    "start_time": "2024-12-24T03:42:11.333Z"
   },
   {
    "duration": 231,
    "start_time": "2024-12-24T03:42:12.761Z"
   },
   {
    "duration": 11,
    "start_time": "2024-12-24T03:42:53.539Z"
   },
   {
    "duration": 3,
    "start_time": "2024-12-24T03:42:59.562Z"
   },
   {
    "duration": 10,
    "start_time": "2024-12-24T03:43:00.093Z"
   },
   {
    "duration": 17,
    "start_time": "2024-12-24T03:43:01.300Z"
   },
   {
    "duration": 7,
    "start_time": "2024-12-24T03:43:01.829Z"
   },
   {
    "duration": 11,
    "start_time": "2024-12-24T03:43:02.407Z"
   },
   {
    "duration": 4,
    "start_time": "2024-12-24T03:43:02.866Z"
   },
   {
    "duration": 244,
    "start_time": "2024-12-24T03:43:03.244Z"
   },
   {
    "duration": 293,
    "start_time": "2024-12-24T03:43:04.010Z"
   },
   {
    "duration": 7,
    "start_time": "2024-12-24T03:43:06.548Z"
   },
   {
    "duration": 154,
    "start_time": "2025-01-08T02:19:34.032Z"
   },
   {
    "duration": 14,
    "start_time": "2025-01-08T02:19:52.509Z"
   },
   {
    "duration": 2627,
    "start_time": "2025-01-08T02:19:58.486Z"
   },
   {
    "duration": 20,
    "start_time": "2025-01-08T02:20:01.115Z"
   },
   {
    "duration": 20,
    "start_time": "2025-01-08T02:20:01.275Z"
   },
   {
    "duration": 9,
    "start_time": "2025-01-08T02:20:02.638Z"
   },
   {
    "duration": 3,
    "start_time": "2025-01-08T02:20:05.802Z"
   },
   {
    "duration": 3,
    "start_time": "2025-01-08T02:20:30.666Z"
   },
   {
    "duration": 6,
    "start_time": "2025-01-08T02:21:19.707Z"
   },
   {
    "duration": 3,
    "start_time": "2025-01-08T02:21:25.638Z"
   },
   {
    "duration": 4,
    "start_time": "2025-01-08T02:21:35.385Z"
   },
   {
    "duration": 6,
    "start_time": "2025-01-08T02:24:12.342Z"
   },
   {
    "duration": 6,
    "start_time": "2025-01-08T02:36:54.710Z"
   },
   {
    "duration": 6,
    "start_time": "2025-01-08T02:38:27.378Z"
   },
   {
    "duration": 8,
    "start_time": "2025-01-08T02:48:27.793Z"
   },
   {
    "duration": 9,
    "start_time": "2025-01-08T02:49:12.686Z"
   },
   {
    "duration": 8,
    "start_time": "2025-01-08T02:50:13.880Z"
   },
   {
    "duration": 8,
    "start_time": "2025-01-08T02:50:30.392Z"
   },
   {
    "duration": 9,
    "start_time": "2025-01-08T02:50:44.952Z"
   },
   {
    "duration": 8,
    "start_time": "2025-01-08T02:53:14.471Z"
   },
   {
    "duration": 8,
    "start_time": "2025-01-08T02:53:54.738Z"
   },
   {
    "duration": 7,
    "start_time": "2025-01-08T02:54:09.530Z"
   },
   {
    "duration": 12,
    "start_time": "2025-01-08T02:55:50.427Z"
   },
   {
    "duration": 8,
    "start_time": "2025-01-08T02:56:33.552Z"
   },
   {
    "duration": 8,
    "start_time": "2025-01-08T02:57:58.486Z"
   },
   {
    "duration": 7,
    "start_time": "2025-01-08T02:59:28.051Z"
   },
   {
    "duration": 3,
    "start_time": "2025-01-08T03:05:15.310Z"
   },
   {
    "duration": 10,
    "start_time": "2025-01-08T03:05:15.840Z"
   },
   {
    "duration": 18,
    "start_time": "2025-01-08T03:05:16.107Z"
   },
   {
    "duration": 6,
    "start_time": "2025-01-08T03:05:16.404Z"
   },
   {
    "duration": 6,
    "start_time": "2025-01-08T03:05:17.431Z"
   },
   {
    "duration": 5,
    "start_time": "2025-01-08T03:05:17.898Z"
   },
   {
    "duration": 11,
    "start_time": "2025-01-08T03:05:18.249Z"
   },
   {
    "duration": 4,
    "start_time": "2025-01-08T03:05:18.533Z"
   },
   {
    "duration": 247,
    "start_time": "2025-01-08T03:05:18.862Z"
   },
   {
    "duration": 269,
    "start_time": "2025-01-08T03:05:19.659Z"
   },
   {
    "duration": 8,
    "start_time": "2025-01-08T03:05:20.770Z"
   }
  ],
  "kernelspec": {
   "display_name": "Python 3 (ipykernel)",
   "language": "python",
   "name": "python3"
  },
  "language_info": {
   "codemirror_mode": {
    "name": "ipython",
    "version": 3
   },
   "file_extension": ".py",
   "mimetype": "text/x-python",
   "name": "python",
   "nbconvert_exporter": "python",
   "pygments_lexer": "ipython3",
   "version": "3.9.19"
  },
  "toc": {
   "base_numbering": 1,
   "nav_menu": {},
   "number_sections": true,
   "sideBar": true,
   "skip_h1_title": true,
   "title_cell": "Table of Contents",
   "title_sidebar": "Contents",
   "toc_cell": false,
   "toc_position": {},
   "toc_section_display": true,
   "toc_window_display": false
  }
 },
 "nbformat": 4,
 "nbformat_minor": 2
}
